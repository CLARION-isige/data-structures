{
 "cells": [
  {
   "cell_type": "markdown",
   "metadata": {},
   "source": [
    "An algorithm is a sequence of well defined instructions for solving a problem/performing a task. \n",
    "Properties: \n",
    "1. Finiteness: must always terminate after a finite number of steps. \n",
    "2. Definiteness: Each algorithm step must be precisely defined. \n",
    "3. Input: Must accept zero/more inputs.\n",
    "4. Output: Must produce one/more outputs with clear relationship to the inputs. \n",
    "5. Effectiveness: Each operation shoule be feasible with basic computational resources.\n",
    "\n",
    "Classification of Algorithms \n",
    "1. By Implementation: Recursive algorithms(solve problems by reducing them to smaller instances) & Iterative algorithms( solve problems using a loop construct)\n",
    "2. By Complexity: Classified based on time & space complexity. Logarithmic, Linear, Quadratic, Polynomial time complexity.\n",
    "Complexity aids in understanding the scalability and efficiency of the algorithm relative to the problem size.\n",
    "3. By Paradigm: Divide and conquer, dynamic programming, greedy algorithms and backtracking.\n",
    "\n",
    "Essentials for efficient Algorithms: \n",
    "1. Performance: Faster execution ie for real-time processing, streaming, trading.\n",
    "2. Resource Optimization: Use resources(memory, CPU cycles) effectively reducing operatonal cost. \n",
    "3. Scalability: Scaling to handle increasing amouts of data/more complex ops without drop in performance. eg in Big data.\n",
    "4. Solution to Complex Problems: Solving problems efficiently without advanced algorithms. \n",
    "eg in cryptography, ML for pattern recognition and predictive modelling.\n",
    "5. Foundation for Advanced Study:To allow for dev't of more sophisticated methods and techniques. eg in AI, data mining, computational biology. \n",
    "\n",
    "Algorithm Selection Criteria\n",
    "1. Nature of the data. Analyze the type and structure of data.\n",
    "2. Operations required. Identify operations that will be performed most frequently.\n",
    "3. Memory constraints: Consider memory overhead associated with a data structure. \n",
    "4. Algorithmic complexity: Evaluate the time complexity the operations that the app will perform. Analyze best,average and worst-case scenarios.\n",
    "5. Ease of Implementation and Maintenance: Consider how easy it is to implement and maintain the data structure.\n"
   ]
  },
  {
   "cell_type": "code",
   "execution_count": null,
   "metadata": {},
   "outputs": [],
   "source": [
    "# Linked List\n",
    "\n",
    "class Node: \n",
    "    \n",
    "    def __init__(self, data):\n",
    "        self.data = data \n",
    "        self.next = None \n",
    "        \n",
    "class LinkedList: \n",
    "    def __init__(self):\n",
    "        self.head = None\n",
    "        \n",
    "    def append(self, data):\n",
    "        new_node = Node(data)\n",
    "        if self.head is None: \n",
    "            self.head = new_node\n",
    "        else: \n",
    "            current = self.head\n",
    "            while current.next: \n",
    "                current = current.next \n",
    "            current.next = new_node \n",
    "            \n"
   ]
  },
  {
   "cell_type": "code",
   "execution_count": 8,
   "metadata": {},
   "outputs": [],
   "source": [
    "linked_list = LinkedList()\n",
    "linked_list.append(1)\n",
    "linked_list.append(2)"
   ]
  },
  {
   "cell_type": "code",
   "execution_count": 9,
   "metadata": {},
   "outputs": [
    {
     "name": "stdout",
     "output_type": "stream",
     "text": [
      "<built-in method popleft of collections.deque object at 0x0000027D4A4F84F0>\n"
     ]
    }
   ],
   "source": [
    "from collections import deque \n",
    "\n",
    "queue = deque()\n",
    "queue.append(1)\n",
    "queue.append(3)\n",
    "\n",
    "\n",
    "print(queue.popleft)"
   ]
  },
  {
   "cell_type": "code",
   "execution_count": null,
   "metadata": {},
   "outputs": [
    {
     "data": {
      "text/plain": [
       "24"
      ]
     },
     "execution_count": 9,
     "metadata": {},
     "output_type": "execute_result"
    }
   ],
   "source": [
    "# factorial recursive \n",
    "\"\"\"Time complexity of O(n)\n",
    "Space complexity of O(n)\n",
    "\"\"\"\n",
    "def factorial(n): \n",
    "    if n == 0: \n",
    "        return 1 \n",
    "    return n * factorial(n-1)\n",
    "\n",
    "factorial(4)"
   ]
  },
  {
   "cell_type": "code",
   "execution_count": null,
   "metadata": {},
   "outputs": [
    {
     "data": {
      "text/plain": [
       "24"
      ]
     },
     "execution_count": 10,
     "metadata": {},
     "output_type": "execute_result"
    }
   ],
   "source": [
    "# factorial iterative\n",
    "\"\"\" Time complexity O(n) it executes n times. \n",
    "Space complexity of O(1) \n",
    "\"\"\"\n",
    " \n",
    "def factorial_iterative(n): \n",
    "    result = 1 \n",
    "    for i in range(1, n+1):\n",
    "        result *=i \n",
    "    return result\n",
    "\n",
    "factorial_iterative(4)"
   ]
  },
  {
   "cell_type": "markdown",
   "metadata": {},
   "source": [
    "\n",
    "# Array Sorting "
   ]
  },
  {
   "cell_type": "code",
   "execution_count": null,
   "metadata": {},
   "outputs": [],
   "source": [
    "# Bubble Sort \n",
    "# This simple algorithm repeatedly steps through the list,\n",
    "# compares adjacent elements, and swaps them if they are in the wrong\n",
    "# order. Its simplicity comes at the cost of efficiency, as it has an average\n",
    "# and worst-case complexity of O(n^2)\n",
    "def bubble_sort(arr): \n",
    "    n = len(arr)\n",
    "    for i in range(n):\n",
    "        for j in range(0, n-i-1):\n",
    "            if arr[j] > arr[j+1]:\n",
    "                arr[j], arr[j+1] = arr[j+1], arr[j]\n",
    "    return arr   \n",
    "\n"
   ]
  },
  {
   "cell_type": "code",
   "execution_count": 25,
   "metadata": {},
   "outputs": [
    {
     "name": "stdout",
     "output_type": "stream",
     "text": [
      "Sorted array:  [11, 12, 22, 25, 34, 64, 90]\n"
     ]
    }
   ],
   "source": [
    "array = [64, 34, 25, 12, 22, 11, 90]\n",
    "\n",
    "sorted_array = bubble_sort(array)\n",
    "print\n",
    "print(\"Sorted array: \", sorted_array)"
   ]
  },
  {
   "cell_type": "code",
   "execution_count": 30,
   "metadata": {},
   "outputs": [],
   "source": [
    "# Selection Sort \n",
    "# This algorithm divides the array into a sorted and an\n",
    "# unsorted part. It repeatedly selects the smallest (or largest, depending on\n",
    "# the order) element from the unsorted part and moves it to the end of the\n",
    "# sorted part. It also has a time complexity of O(n2\n",
    "def selection_sort(arr):\n",
    "    n = len(arr)\n",
    "    for i in range(n):\n",
    "        min_indx = i \n",
    "        for j in range(i+1, n): \n",
    "            if arr[j] < arr[min_indx]: \n",
    "                min_indx = j \n",
    "        arr[i], arr[min_indx] = arr[min_indx], arr[i]\n",
    "    return arr\n",
    "\n"
   ]
  },
  {
   "cell_type": "code",
   "execution_count": 31,
   "metadata": {},
   "outputs": [
    {
     "name": "stdout",
     "output_type": "stream",
     "text": [
      "Sorted array:  [11, 12, 22, 25, 34, 64, 90]\n"
     ]
    }
   ],
   "source": [
    "array = [64, 34, 25, 12, 22, 11, 90]\n",
    "\n",
    "sorted_array = selection_sort(array)\n",
    "print\n",
    "print(\"Sorted array: \", sorted_array)"
   ]
  },
  {
   "cell_type": "code",
   "execution_count": 32,
   "metadata": {},
   "outputs": [],
   "source": [
    "# Insertion Sort\n",
    "# This algorithm builds the sorted array one element at a\n",
    "# time, placing each new element in its correct position. While its average\n",
    "# and worst-case complexity is O(n2), it is more efficient than bubble sort\n",
    "# and selection sort for small data sets or nearly sorted arrays\n",
    "\n",
    "def insertion_sort(arr):\n",
    "    n = len(arr)\n",
    "    for i in range(1, n):\n",
    "        key = arr[i]\n",
    "        j = i - 1\n",
    "        while j >= 0 and key < arr[j]:\n",
    "            arr[j+1] = arr[j]\n",
    "            j -= 1 \n",
    "        arr[j + 1] = key \n",
    "    return arr \n",
    "\n"
   ]
  },
  {
   "cell_type": "code",
   "execution_count": null,
   "metadata": {},
   "outputs": [
    {
     "name": "stdout",
     "output_type": "stream",
     "text": [
      "Sorted array:  [11, 12, 22, 25, 34, 64, 90]\n"
     ]
    }
   ],
   "source": [
    "array = [64, 34, 25, 12, 22, 11, 90]\n",
    "\n",
    "sorted_aray = insertion_sort(array)\n",
    "\n",
    "print(\"Sorted array: \", sorted_array)"
   ]
  },
  {
   "cell_type": "code",
   "execution_count": 5,
   "metadata": {},
   "outputs": [],
   "source": [
    "# Merge Sort \n",
    "# This divide-and-conquer algorithm splits the array into\n",
    "# halves, recursively sorts each half, and then merges the sorted halves. It\n",
    "# offers a significant improvement in efficiency with a time complexity of\n",
    "# O(nlog n).\n",
    "\n",
    "def merge_sort(arr): \n",
    "    if len(arr) > 1: \n",
    "        mid = len(arr)//2 \n",
    "        L = arr[:mid]\n",
    "        R = arr[mid:]\n",
    "        \n",
    "        merge_sort(L)\n",
    "        merge_sort(R)\n",
    "        \n",
    "        i = j = k = 0 \n",
    "        \n",
    "        while i < len(L) and j < len(R): \n",
    "            if L[i] < R[j]: \n",
    "                arr[k] = L[i]\n",
    "                i += 1 \n",
    "            else: \n",
    "                arr[k] = R[j]\n",
    "                j += 1 \n",
    "            k += 1 \n",
    "        \n",
    "        while i < len(L): \n",
    "            arr[k] = L[i]\n",
    "            i += 1 \n",
    "            k += 1 \n",
    "    return arr \n",
    "\n",
    "\n",
    "            \n",
    "            \n"
   ]
  },
  {
   "cell_type": "code",
   "execution_count": 6,
   "metadata": {},
   "outputs": [
    {
     "name": "stdout",
     "output_type": "stream",
     "text": [
      "Sorted array:  [11, 12, 22, 25, 34, 64, 90]\n"
     ]
    }
   ],
   "source": [
    "array = [64, 34, 25, 12, 22, 11, 90]\n",
    "\n",
    "sorted_aray = merge_sort(array)\n",
    "\n",
    "print(\"Sorted array: \", sorted_array)  "
   ]
  },
  {
   "cell_type": "code",
   "execution_count": 14,
   "metadata": {},
   "outputs": [],
   "source": [
    "# Quick Sort\n",
    "# Another divide-and-conquer algorithm, quick sort, selects a\n",
    "# \"pivot\" element and partitions the array into sub-arrays, which are then\n",
    "# sorted recursively. Its average-case complexity is O(nlog n), but the\n",
    "# worst case is O(n2) if the pivot selection is poor.\n",
    "\n",
    "def partition(arr, low, high): \n",
    "    i = (low - 1)\n",
    "    pivot = arr[high]\n",
    "    \n",
    "    for j in range(low, high): \n",
    "        if arr[j] <= pivot: \n",
    "            i += 1 \n",
    "            arr[i], arr[j] = arr[j], arr[i]\n",
    "        \n",
    "        arr[i + 1], arr[high] = arr[high], arr[i + 1]\n",
    "        return (i + 1)\n",
    "    \n",
    "def quick_sort(arr, low, high): \n",
    "    if low < high: \n",
    "        pi = partition(arr, low, high)\n",
    "        quick_sort(arr, low, pi - 1)\n",
    "        quick_sort(arr, pi + 1, high)\n",
    "    return arr \n",
    "\n"
   ]
  },
  {
   "cell_type": "code",
   "execution_count": 16,
   "metadata": {},
   "outputs": [
    {
     "name": "stdout",
     "output_type": "stream",
     "text": [
      "Sorted array:  [11, 12, 22, 25, 34, 64, 90]\n"
     ]
    }
   ],
   "source": [
    "array = [64, 34, 25, 12, 22, 11, 90]\n",
    "\n",
    "sorted_aray = quick_sort(array, 0, len(array) - 1)\n",
    "\n",
    "print(\"Sorted array: \", sorted_array)  "
   ]
  },
  {
   "cell_type": "code",
   "execution_count": 2,
   "metadata": {},
   "outputs": [],
   "source": [
    "# Heap Sort\n",
    "# This comparison-based algorithm uses a binary heap data\n",
    "# structure to sort the array. It has a time complexity of O(nlog n)\n",
    "\n",
    "def heapify(arr, n, i ): \n",
    "    largest = i \n",
    "    l = 2 * i + 1 \n",
    "    r = 2 * i + 2 \n",
    "    \n",
    "    if l < n and arr[i] < arr[l]: \n",
    "        largest = l \n",
    "        \n",
    "    if r < n and arr[largest] < arr[r]: \n",
    "        largest = r \n",
    "    \n",
    "    if largest != i: \n",
    "        arr[i], arr[largest] = arr[largest], arr[i]\n",
    "        heapify(arr, n, largest)\n",
    "        \n",
    "\n",
    "def heap_sort(arr): \n",
    "    n = len(arr)\n",
    "    \n",
    "    for i in range(n//2 - 1, -1, -1): \n",
    "        heapify(arr, n, i)\n",
    "    \n",
    "    for i in range(n-1, 0, -1): \n",
    "        arr[i], arr[0] = arr[0], arr[i]\n",
    "        heapify(arr, i, 0)\n",
    "    return arr \n",
    "\n"
   ]
  },
  {
   "cell_type": "code",
   "execution_count": 4,
   "metadata": {},
   "outputs": [
    {
     "name": "stdout",
     "output_type": "stream",
     "text": [
      "Sorted array:  [11, 12, 22, 25, 34, 64, 90]\n"
     ]
    }
   ],
   "source": [
    "array = [64, 34, 25, 12, 22, 11, 90]\n",
    "\n",
    "sorted_array = heap_sort(array)\n",
    "\n",
    "print(\"Sorted array: \", sorted_array)  "
   ]
  },
  {
   "cell_type": "markdown",
   "metadata": {},
   "source": [
    "# Array searching \n",
    "Involves finding the position of a specified elemeny within an array. \n",
    "Techniques: Linear Search & Binary Search"
   ]
  },
  {
   "cell_type": "code",
   "execution_count": null,
   "metadata": {},
   "outputs": [],
   "source": [
    "# Linear Search\n",
    "# O(n)\n",
    "def linear_search(arr, x): \n",
    "    for i in range(len(arr)): \n",
    "        if arr[i] == x: \n",
    "            return i \n",
    "    return -1 # Element not found\n",
    "\n"
   ]
  },
  {
   "cell_type": "code",
   "execution_count": 4,
   "metadata": {},
   "outputs": [
    {
     "data": {
      "text/plain": [
       "4"
      ]
     },
     "execution_count": 4,
     "metadata": {},
     "output_type": "execute_result"
    }
   ],
   "source": [
    "linear_search([4,2,3,1,5], 5)"
   ]
  },
  {
   "cell_type": "code",
   "execution_count": 22,
   "metadata": {},
   "outputs": [],
   "source": [
    "# Binary Search \n",
    "# O(log n)\n",
    "\n",
    "def binary_search(arr, x): \n",
    "    low = 0 \n",
    "    high = len(arr) - 1\n",
    "    \n",
    "    while low <= high:\n",
    "        mid = (low + high) // 2 \n",
    "        if arr[mid] == x: \n",
    "            return mid \n",
    "        elif arr[mid] < x: \n",
    "            low = mid + 1 \n",
    "        else: \n",
    "            high = mid - 1 \n",
    "    return \"Not found\""
   ]
  },
  {
   "cell_type": "code",
   "execution_count": 23,
   "metadata": {},
   "outputs": [
    {
     "data": {
      "text/plain": [
       "'Not found'"
      ]
     },
     "execution_count": 23,
     "metadata": {},
     "output_type": "execute_result"
    }
   ],
   "source": [
    "binary_search([1,2,3,4,5], 6)"
   ]
  },
  {
   "cell_type": "code",
   "execution_count": 25,
   "metadata": {},
   "outputs": [],
   "source": [
    "def binary_search_recursive(arr, x , low, high): \n",
    "    if low > high: \n",
    "        return -1 \n",
    "    \n",
    "    mid = (low + high) // 2 \n",
    "    if arr[mid] == x: \n",
    "        return mid \n",
    "    elif arr[mid] < x: \n",
    "        return binary_search_recursive(arr, x, mid + 1, high)\n",
    "    else: \n",
    "        return binary_search_recursive(arr, x, low, mid -1)\n",
    "    \n",
    "    "
   ]
  },
  {
   "cell_type": "code",
   "execution_count": 26,
   "metadata": {},
   "outputs": [
    {
     "name": "stdout",
     "output_type": "stream",
     "text": [
      "2\n"
     ]
    }
   ],
   "source": [
    "arr = [1, 2, 3, 4, 5]\n",
    "x = 3 \n",
    "\n",
    "result = binary_search_recursive(arr, x, 0, len(arr)-1)\n",
    "\n",
    "print(result)"
   ]
  },
  {
   "cell_type": "code",
   "execution_count": null,
   "metadata": {},
   "outputs": [],
   "source": []
  },
  {
   "cell_type": "code",
   "execution_count": 12,
   "metadata": {},
   "outputs": [
    {
     "data": {
      "text/plain": [
       "100"
      ]
     },
     "execution_count": 12,
     "metadata": {},
     "output_type": "execute_result"
    }
   ],
   "source": [
    "# Quadratic time \n",
    "\n",
    "def quadratic_time_function(arr): \n",
    "    result = 0 \n",
    "    n = len(arr)\n",
    "    for i in range(n):\n",
    "        for j in range(n):\n",
    "            result += arr[i] * arr[j]\n",
    "    return result\n",
    "\n",
    "\n",
    "quadratic_time_function([1,2,3,4])"
   ]
  },
  {
   "cell_type": "code",
   "execution_count": null,
   "metadata": {},
   "outputs": [
    {
     "data": {
      "text/plain": [
       "1225"
      ]
     },
     "execution_count": 25,
     "metadata": {},
     "output_type": "execute_result"
    }
   ],
   "source": [
    "def compute_sum(arr): \n",
    "    total_sum = 0 \n",
    "    for sum in arr: \n",
    "        total_sum  += sum \n",
    "    return total_sum\n",
    "\n",
    "compute_sum([i for i in range(50)])\n",
    "\"\"\"\n",
    "Time and space complexity of O(n)\n",
    "\"\"\""
   ]
  },
  {
   "cell_type": "code",
   "execution_count": 26,
   "metadata": {},
   "outputs": [
    {
     "data": {
      "text/plain": [
       "120"
      ]
     },
     "execution_count": 26,
     "metadata": {},
     "output_type": "execute_result"
    }
   ],
   "source": [
    "# Recursive Algorithm \n",
    "def factorial(n): \n",
    "    if n == 0: \n",
    "        return 1 \n",
    "    return n * factorial(n-1)\n",
    "\n",
    "\"\"\"Time and space complexity of O(n)\n",
    "\"\"\"\n",
    "\n",
    "factorial(5)"
   ]
  },
  {
   "cell_type": "code",
   "execution_count": null,
   "metadata": {},
   "outputs": [
    {
     "name": "stdout",
     "output_type": "stream",
     "text": [
      "[1, 2, 3, 4, 5, 5, 6, 7, 8, 8, 9]\n"
     ]
    }
   ],
   "source": [
    "def bubble_sort(arr): \n",
    "    n = len(arr)\n",
    "    for i in range(n):\n",
    "        for j in range(0, n-i-1):\n",
    "            if arr[j] > arr[j+1]: \n",
    "                arr[j], arr[j+1] = arr[j+1], arr[j]\n",
    "    return arr\n",
    "\"\"\"Time complexity of O(n^2) and a space complexity of O(n)\n",
    "\"\"\"\n",
    "print(bubble_sort([1,4,3,2,5,7,8,6,9,8,5]))"
   ]
  },
  {
   "cell_type": "code",
   "execution_count": null,
   "metadata": {},
   "outputs": [
    {
     "name": "stdout",
     "output_type": "stream",
     "text": [
      "None\n"
     ]
    }
   ],
   "source": [
    "# Simple hash table with separate chaining. \n",
    "\"\"\"Real-time search and Retrieval: If real-time retrical is the primary requirement, \n",
    "then hashtables are efficient. Must be implemented with appropriate collision resolution \n",
    "strategies(chaining and open addressing) to manage worst-case O(n) time complexity \n",
    "when collisions occur.\n",
    "\"\"\"\n",
    "class HashTable: \n",
    "    def __init__(self): \n",
    "        self.table = [[] for _ in range(10)]\n",
    "    \n",
    "    def _hash_function(self, key): \n",
    "        return hash(key) % len(self.table)\n",
    "    \n",
    "    def insert(self, key, value):\n",
    "        index = self._hash_function(key)\n",
    "        for pair in self.table[index]:\n",
    "            if pair[0] == key: \n",
    "                pair[1] == value\n",
    "                return self.table[index].append([key, value])\n",
    "            \n",
    "    def search(self, key): \n",
    "        index = self._hash_function(key)\n",
    "        for pair in self.table[index]: \n",
    "            if pair[0] == key: \n",
    "                return pair[1]\n",
    "        return None\n",
    "    \n",
    "ht =  HashTable()\n",
    "ht.insert('a', 1)\n",
    "ht.insert('b', 2)\n"
   ]
  },
  {
   "cell_type": "code",
   "execution_count": 47,
   "metadata": {},
   "outputs": [
    {
     "data": {
      "text/plain": [
       "<__main__.BSTNode at 0x1ef00b295d0>"
      ]
     },
     "execution_count": 47,
     "metadata": {},
     "output_type": "execute_result"
    }
   ],
   "source": [
    "# Hierarchical Data Representation \n",
    "\"\"\"Trees are suitable when data is hierarchical. \n",
    "Binary Search Trees(BSTs) allow for data representation with logarithmic time complexity \n",
    "for insertion, deletion and lookup operations.\n",
    "\"\"\"\n",
    "\n",
    "class BSTNode: \n",
    "    def __init__(self, key): \n",
    "        self.left = None \n",
    "        self.right = None \n",
    "        self.val = key \n",
    "        \n",
    "    def insert(self, key): \n",
    "        if self.val: \n",
    "            if key < self.val: \n",
    "                if self.left is None: \n",
    "                    self.left = BSTNode(key)\n",
    "                else: \n",
    "                    self.left.insert(key)\n",
    "            elif key > self.val: \n",
    "                if self.right is None: \n",
    "                    self.right= BSTNode(key)\n",
    "                else: \n",
    "                    self.right.insert(key)\n",
    "        else: \n",
    "            self.val = key \n",
    "    \n",
    "    def search(self, key): \n",
    "        if key < self.val: \n",
    "            if self.left is None: \n",
    "                return None \n",
    "            return self.left.search(key)\n",
    "        elif key > self.val: \n",
    "            if self.right is None: \n",
    "                return None \n",
    "            return self.right.search(key)\n",
    "        else: \n",
    "            return self \n",
    "        \n",
    "root = BSTNode(10)\n",
    "root.insert(5)\n",
    "root.insert(15)\n",
    "root.search(15)\n",
    "root.search(15)"
   ]
  },
  {
   "cell_type": "code",
   "execution_count": 48,
   "metadata": {},
   "outputs": [
    {
     "ename": "TypeError",
     "evalue": "Queue.dequeue() takes 1 positional argument but 2 were given",
     "output_type": "error",
     "traceback": [
      "\u001b[1;31m---------------------------------------------------------------------------\u001b[0m",
      "\u001b[1;31mTypeError\u001b[0m                                 Traceback (most recent call last)",
      "Cell \u001b[1;32mIn[48], line 25\u001b[0m\n\u001b[0;32m     23\u001b[0m q\u001b[38;5;241m.\u001b[39menqueue(\u001b[38;5;241m1\u001b[39m)\n\u001b[0;32m     24\u001b[0m q\u001b[38;5;241m.\u001b[39menqueue(\u001b[38;5;241m2\u001b[39m)\n\u001b[1;32m---> 25\u001b[0m q\u001b[38;5;241m.\u001b[39mdequeue(\u001b[38;5;241m1\u001b[39m)\n",
      "\u001b[1;31mTypeError\u001b[0m: Queue.dequeue() takes 1 positional argument but 2 were given"
     ]
    }
   ],
   "source": [
    "# Sequence Data Processing \n",
    "\"\"\"\n",
    "For operations requiring First In First Out(FIFO) order, queues are optimal. \n",
    "Can be implemented using arrays/linked lists\n",
    "\"\"\"\n",
    "\n",
    "class Queue: \n",
    "    def __init__(self): \n",
    "        self.queue= []\n",
    "    \n",
    "    def enqueue(self, item): \n",
    "        self.queue.append(item)\n",
    "        \n",
    "    def dequeue(self): \n",
    "        if len(self.queue) < 1: \n",
    "            return None \n",
    "        return self.queue.pop(0)\n",
    "    \n",
    "    def size(self): \n",
    "        return len(self.queue)\n",
    "    \n",
    "q = Queue()\n",
    "q.enqueue(1)\n",
    "q.enqueue(2)\n",
    "q.dequeue(1)"
   ]
  },
  {
   "cell_type": "code",
   "execution_count": null,
   "metadata": {},
   "outputs": [],
   "source": []
  }
 ],
 "metadata": {
  "kernelspec": {
   "display_name": "base",
   "language": "python",
   "name": "python3"
  },
  "language_info": {
   "codemirror_mode": {
    "name": "ipython",
    "version": 3
   },
   "file_extension": ".py",
   "mimetype": "text/x-python",
   "name": "python",
   "nbconvert_exporter": "python",
   "pygments_lexer": "ipython3",
   "version": "3.11.7"
  }
 },
 "nbformat": 4,
 "nbformat_minor": 2
}
